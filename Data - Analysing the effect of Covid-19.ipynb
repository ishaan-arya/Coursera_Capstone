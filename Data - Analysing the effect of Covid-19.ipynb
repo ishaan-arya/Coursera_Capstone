{
    "cells": [
        {
            "metadata": {
                "collapsed": true
            },
            "cell_type": "markdown",
            "source": "# Applied Capstone Project - Analysing the effect of Covid-19"
        },
        {
            "metadata": {},
            "cell_type": "markdown",
            "source": "## Data"
        },
        {
            "metadata": {},
            "cell_type": "markdown",
            "source": "\n#### Data 1 :\n<h>\nThe primary data which is to be used for this analysis would be the number of covid cases in different countries on different dates. This will help us see how Covid cases in different parts of the world have changed overtime.\n\nThis data is available online for free at : https://covid.ourworldindata.org/data/ecdc/total_cases.csv\n</h>"
        },
        {
            "metadata": {},
            "cell_type": "markdown",
            "source": "#### Data 2 :\n<h>We would also use the data for the total number of deaths which were caused by the coronavirus in different countries overtime.\n\nThis data is available online for free at : https://covid.ourworldindata.org/data/ecdc/total_deaths.csv"
        },
        {
            "metadata": {},
            "cell_type": "markdown",
            "source": "#### Data 3:\n<h>We would also use the data for new Covid cases as this will help us observe how the daily growth in Covid cases has changed.\n\nThis data is available online for free at : https://covid.ourworldindata.org/data/ecdc/new_cases.csv\n    </h>"
        },
        {
            "metadata": {},
            "cell_type": "markdown",
            "source": "#### Data 4:\n<h>We would also use the data for new Covid deaths as this will help us observe how the daily growth in Covid deaths has changed.\n\nThis data is available online for free at : https://covid.ourworldindata.org/data/ecdc/new_deaths.csv\n    </h>"
        },
        {
            "metadata": {},
            "cell_type": "markdown",
            "source": "#### Data 5:\n<h>We would also use the data for for demographics of Covid impacted places to find out the role of population in the number of cases recorded.\n    \nThis data is available online for free at : https://covid.ourworldindata.org/data/ecdc/locations.csv\n    </h>"
        },
        {
            "metadata": {},
            "cell_type": "markdown",
            "source": "#### Data 6:\n<h>We would also use Google's mobility data which shows how mobility has changed due to Covid-19. i.e. How people have stopped going to places like cinemas etc\n        \n\nThis data is available online for free at : https://www.gstatic.com/covid19/mobility/Global_Mobility_Report.csv?cachebust=3ec772aac6061acf\n    </h>"
        },
        {
            "metadata": {},
            "cell_type": "markdown",
            "source": "#### Data 7:\n<h>Lastly, we would also use data from Wikipedia which contains data about Covid cases in different parts of the country. \n        \n\nThis data is available online for free at : https://en.wikipedia.org/wiki/Template:COVID-19_pandemic_data/United_States_medical_cases\n</h>"
        }
    ],
    "metadata": {
        "kernelspec": {
            "name": "python3",
            "display_name": "Python 3.6",
            "language": "python"
        },
        "language_info": {
            "name": "python",
            "version": "3.6.9",
            "mimetype": "text/x-python",
            "codemirror_mode": {
                "name": "ipython",
                "version": 3
            },
            "pygments_lexer": "ipython3",
            "nbconvert_exporter": "python",
            "file_extension": ".py"
        }
    },
    "nbformat": 4,
    "nbformat_minor": 1
}