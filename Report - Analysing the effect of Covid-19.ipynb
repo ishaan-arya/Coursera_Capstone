{
    "cells": [
        {
            "cell_type": "markdown",
            "metadata": {
                "collapsed": true
            },
            "source": "# Applied Capstone Project - Analysing the effects of Covid-19"
        },
        {
            "cell_type": "markdown",
            "metadata": {},
            "source": "## Introduction"
        },
        {
            "cell_type": "markdown",
            "metadata": {},
            "source": "### Background -"
        },
        {
            "cell_type": "markdown",
            "metadata": {},
            "source": "<p> Coronavirus disease 2019 (COVID-19) is defined as an illness caused by the novel coronavirus. It was initially reported to the WHO on December 31, 2019. On January 30, 2020, the WHO declared the COVID-19 outbreak as a global health emergency. On March 11, 2020, it was declared a global pandemic. With the worldwide cases nearing 9 million and 450 thousand people already succumbing to the virus, it has become a big concern. As countries strive to deal with the economic impacts caused by the COVID-19 pandemic, there is an urgent need for new evidence and research to improve our understanding of the economic crisis in affected countries and the appropriate policy responses."
        },
        {
            "cell_type": "markdown",
            "metadata": {},
            "source": "<h> Data Science has played an important role in the world's fight against Covid-19. Various dashboards of Covid-19 cases have been created and referred to by people around the world. This has generated tremendous amount of data, which has proven to be very useful. Further analysis of this data to give more meaningful conclusions may be invaluable and may give us patterns which have not been previously observed."
        },
        {
            "cell_type": "markdown",
            "metadata": {},
            "source": "### Description -"
        },
        {
            "cell_type": "markdown",
            "metadata": {},
            "source": "<h> Data from various countries regarding Covid-19 cases will be explored and visual plot renditions will be produced for many variables. The data would include : </h>\n<h>\n* Confirmed Cases\n* Number of deaths \n* Number of new cases\n* Number of new deaths\n    \nThis would be used to create plots for various countries all around the world. The dates of lockdown imposition will be compared to the data and it will be checked whether a lockdown has slowed the increase in Covid cases. The cases in particular locations of the United States of America would then be observed and it would be inferred if popular locations have reported more cases or not. Data from Covid free countries (Eg. New Zealand) would also be analysed to see how they went about with eliminating the spread of the virus. </h>"
        },
        {
            "cell_type": "markdown",
            "metadata": {},
            "source": "### Target Audience -"
        },
        {
            "cell_type": "markdown",
            "metadata": {},
            "source": "<h> The data analysis performed would give results which would be useful to:\n* The Government - To make strategies according to the measures which have successfully reduced Covid cases\n* Health Representitives - It can be seen which places are in need of greater medical assisstance\n* Common People - To remain informed about the spread of the coronavirus in their locality and take measures accordingly \n* Epidemiologists - To understand how the Covid 19 virus spread and how to prevent such pandemics/ be better prepared in the future\n* And many more.."
        },
        {
            "cell_type": "markdown",
            "metadata": {},
            "source": "### Success Criteria - "
        },
        {
            "cell_type": "markdown",
            "metadata": {},
            "source": "<h> I would believe the analysis to be successful if meaningful conclusions can be drawn from it and if new insights about the Covid-19 pandemic can be observed"
        }
    ],
    "metadata": {
        "kernelspec": {
            "display_name": "Python 3.6",
            "language": "python",
            "name": "python3"
        },
        "language_info": {
            "codemirror_mode": {
                "name": "ipython",
                "version": 3
            },
            "file_extension": ".py",
            "mimetype": "text/x-python",
            "name": "python",
            "nbconvert_exporter": "python",
            "pygments_lexer": "ipython3",
            "version": "3.6.9"
        }
    },
    "nbformat": 4,
    "nbformat_minor": 1
}