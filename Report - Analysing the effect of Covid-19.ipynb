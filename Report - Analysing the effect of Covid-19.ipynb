{
    "cells": [
        {
            "metadata": {
                "collapsed": true
            },
            "cell_type": "markdown",
            "source": "# Applied Capstone Project - Analysing the effects of Covid-19"
        },
        {
            "metadata": {},
            "cell_type": "markdown",
            "source": "## Introduction"
        },
        {
            "metadata": {},
            "cell_type": "markdown",
            "source": "### Background -"
        },
        {
            "metadata": {},
            "cell_type": "markdown",
            "source": "<p> Coronavirus disease 2019 (COVID-19) is defined as an illness caused by the novel coronavirus. It was initially reported to the WHO on December 31, 2019. On January 30, 2020, the WHO declared the COVID-19 outbreak as a global health emergency. On March 11, 2020, it was declared a global pandemic. With the worldwide cases nearing 9 million and 450 thousand people already succumbing to the virus, it has become a big concern. As countries strive to deal with the economic impacts caused by the COVID-19 pandemic, there is an urgent need for new evidence and research to improve our understanding of the economic crisis in affected countries and the appropriate policy responses."
        },
        {
            "metadata": {},
            "cell_type": "markdown",
            "source": "<h> Data Science has played an important role in the world's fight against Covid-19. Various dashboards of Covid-19 cases have been created and referred to by people around the world. This has generated tremendous amount of data, which has proven to be very useful. Further analysis of this data to give more meaningful conclusions may be invaluable and may give us patterns which have not been previously observed."
        },
        {
            "metadata": {},
            "cell_type": "markdown",
            "source": "### Description -"
        },
        {
            "metadata": {},
            "cell_type": "markdown",
            "source": "<h> Data from various countries regarding Covid-19 cases will be explored and visual plot renditions will be produced for many variables. The data would include : </h>\n<h>\n* Confirmed Cases\n* Number of deaths \n* Number of new cases\n* Number of new deaths\n    \nThis would be used to create plots for various countries all around the world. The dates of lockdown imposition will be compared to the data and it will be checked whether a lockdown has slowed the increase in Covid cases. The cases in particular locations of the United States of America would then be observed and it would be inferred if popular locations have reported more cases or not. Data from Covid free countries (Eg. New Zealand) would also be analysed to see how they went about with eliminating the spread of the virus. </h>"
        },
        {
            "metadata": {},
            "cell_type": "markdown",
            "source": "### Target Audience -"
        },
        {
            "metadata": {},
            "cell_type": "markdown",
            "source": "<h> The data analysis performed would give results which would be useful to:\n* The Government - To make strategies according to the measures which have successfully reduced Covid cases\n* Health Representitives - It can be seen which places are in need of greater medical assisstance\n* Common People - To remain informed about the spread of the coronavirus in their locality and take measures accordingly \n* Epidemiologists - To understand how the Covid 19 virus spread and how to prevent such pandemics/ be better prepared in the future\n* And many more.."
        },
        {
            "metadata": {},
            "cell_type": "markdown",
            "source": "### Success Criteria - "
        },
        {
            "metadata": {},
            "cell_type": "markdown",
            "source": "<h> I would believe the analysis to be successful if meaningful conclusions can be drawn from it and if new insights about the Covid-19 pandemic can be observed"
        }
    ],
    "metadata": {
        "kernelspec": {
            "name": "python3",
            "display_name": "Python 3.6",
            "language": "python"
        },
        "language_info": {
            "name": "python",
            "version": "3.6.9",
            "mimetype": "text/x-python",
            "codemirror_mode": {
                "name": "ipython",
                "version": 3
            },
            "pygments_lexer": "ipython3",
            "nbconvert_exporter": "python",
            "file_extension": ".py"
        }
    },
    "nbformat": 4,
    "nbformat_minor": 1
}